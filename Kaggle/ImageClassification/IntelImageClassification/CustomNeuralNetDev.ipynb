{
  "nbformat": 4,
  "nbformat_minor": 0,
  "metadata": {
    "colab": {
      "name": "Untitled0.ipynb",
      "provenance": [],
      "toc_visible": true,
      "authorship_tag": "ABX9TyNxl9BDk5Ti9QMDqAGxPHdu",
      "include_colab_link": true
    },
    "kernelspec": {
      "name": "python3",
      "display_name": "Python 3"
    },
    "accelerator": "GPU"
  },
  "cells": [
    {
      "cell_type": "markdown",
      "metadata": {
        "id": "view-in-github",
        "colab_type": "text"
      },
      "source": [
        "<a href=\"https://colab.research.google.com/github/Siva7/GoogleColabProject/blob/main/Kaggle/ImageClassification/IntelImageClassification/CustomNeuralNetDev.ipynb\" target=\"_parent\"><img src=\"https://colab.research.google.com/assets/colab-badge.svg\" alt=\"Open In Colab\"/></a>"
      ]
    },
    {
      "cell_type": "code",
      "metadata": {
        "id": "-wa6GfWrMnlf"
      },
      "source": [
        "!pip install -q kaggle"
      ],
      "execution_count": 1,
      "outputs": []
    },
    {
      "cell_type": "code",
      "metadata": {
        "id": "f8W-He_EoipT"
      },
      "source": [
        "import tensorflow as tf\n",
        "import tensorflow.keras as tfk\n",
        "from tensorflow.keras.preprocessing.image import ImageDataGenerator"
      ],
      "execution_count": 2,
      "outputs": []
    },
    {
      "cell_type": "code",
      "metadata": {
        "id": "eqeQ9wAzO617",
        "outputId": "4e27fa4c-becc-4795-a4b7-fc86a90fffda",
        "colab": {
          "base_uri": "https://localhost:8080/",
          "height": 55
        }
      },
      "source": [
        "from google.colab import drive\n",
        "drive.mount('/content/drive')"
      ],
      "execution_count": 3,
      "outputs": [
        {
          "output_type": "stream",
          "text": [
            "Drive already mounted at /content/drive; to attempt to forcibly remount, call drive.mount(\"/content/drive\", force_remount=True).\n"
          ],
          "name": "stdout"
        }
      ]
    },
    {
      "cell_type": "code",
      "metadata": {
        "id": "jj5kkENEOxWe",
        "outputId": "58fb0156-1a02-4dab-99d5-2541ee3e726c",
        "colab": {
          "base_uri": "https://localhost:8080/",
          "height": 35
        }
      },
      "source": [
        "!mkdir /root/.kaggle/\n",
        "!cp \"/content/drive/My Drive/Colab Notebooks/KaggleAPI/kaggle.json\" /root/.kaggle/kaggle.json"
      ],
      "execution_count": 4,
      "outputs": [
        {
          "output_type": "stream",
          "text": [
            "mkdir: cannot create directory ‘/root/.kaggle/’: File exists\n"
          ],
          "name": "stdout"
        }
      ]
    },
    {
      "cell_type": "code",
      "metadata": {
        "id": "d4zCNiq6PxJK",
        "outputId": "ad4a0bae-5ec6-4774-8751-c2a7a7d1565f",
        "colab": {
          "base_uri": "https://localhost:8080/",
          "height": 35
        }
      },
      "source": [
        "!kaggle datasets download -d puneet6060/intel-image-classification"
      ],
      "execution_count": 5,
      "outputs": [
        {
          "output_type": "stream",
          "text": [
            "intel-image-classification.zip: Skipping, found more recently modified local copy (use --force to force download)\n"
          ],
          "name": "stdout"
        }
      ]
    },
    {
      "cell_type": "code",
      "metadata": {
        "id": "EWR0R_RWmWcQ"
      },
      "source": [
        "import zipfile\n",
        "with zipfile.ZipFile(r'/content/intel-image-classification.zip') as zfile:\n",
        "  zfile.extractall(r'/content/intelImages')"
      ],
      "execution_count": 6,
      "outputs": []
    },
    {
      "cell_type": "markdown",
      "metadata": {
        "id": "RFXCNS-mnZwL"
      },
      "source": [
        "#@title Default title text\n",
        "#@ Image Size\n",
        "All images are of size 150 * 150 \n",
        "\n",
        "1) Use the raw data as is and analyse the predetions\n",
        "2) Use data agumentation and see the difference."
      ]
    },
    {
      "cell_type": "code",
      "metadata": {
        "id": "bw1Z9tLAqCfm",
        "outputId": "fb62acf0-851d-415d-c22d-d9c2b83f0aa5",
        "colab": {
          "base_uri": "https://localhost:8080/",
          "height": 109
        }
      },
      "source": [
        "import PIL\n",
        "from PIL import Image\n",
        "import numpy as np\n",
        "\n",
        "image_sample = Image.open(r'/content/intelImages/seg_train/seg_train/buildings/0.jpg')\n",
        "print(image_sample.mode)\n",
        "print(image_sample.format)\n",
        "print(image_sample.size)\n",
        "img_arry  = np.array(image_sample)\n",
        "print(img_arry.shape)\n",
        "print(np.max(img_arry))"
      ],
      "execution_count": 6,
      "outputs": [
        {
          "output_type": "stream",
          "text": [
            "RGB\n",
            "JPEG\n",
            "(150, 150)\n",
            "(150, 150, 3)\n",
            "255\n"
          ],
          "name": "stdout"
        }
      ]
    },
    {
      "cell_type": "code",
      "metadata": {
        "id": "la5RcTxmoeT0",
        "outputId": "ee80475b-c0bf-4f8d-e2f4-fa2a731f4d3d",
        "colab": {
          "base_uri": "https://localhost:8080/",
          "height": 35
        }
      },
      "source": [
        "train_image_gen = ImageDataGenerator(rescale=1./255,\n",
        "                                     rotation_range=0.4,width_shift_range=0.3,\n",
        "                                     height_shift_range=0.3,\n",
        "                                     shear_range=0.3)\n",
        "\n",
        "image_fimage_flow_genlow_gen = train_image_gen.flow_from_directory(r'/content/intelImages/seg_train/seg_train',\n",
        "                                                     class_mode='sparse',\n",
        "                                                     batch_size=32,\n",
        "                                                     target_size=(150,150))"
      ],
      "execution_count": 7,
      "outputs": [
        {
          "output_type": "stream",
          "text": [
            "Found 14034 images belonging to 6 classes.\n"
          ],
          "name": "stdout"
        }
      ]
    },
    {
      "cell_type": "code",
      "metadata": {
        "id": "wxTk0riKzDTd",
        "outputId": "a4aa1d46-0ee3-4c8f-d737-e43ae0af81ad",
        "colab": {
          "base_uri": "https://localhost:8080/",
          "height": 91
        }
      },
      "source": [
        "next_batch = image_fimage_flow_genlow_gen.next()\n",
        "print(type(next_batch))\n",
        "print(next_batch[1].shape)\n",
        "print(type(next_batch[1][0]))\n",
        "print(next_batch[1][0])"
      ],
      "execution_count": 8,
      "outputs": [
        {
          "output_type": "stream",
          "text": [
            "<class 'tuple'>\n",
            "(32,)\n",
            "<class 'numpy.float32'>\n",
            "5.0\n"
          ],
          "name": "stdout"
        }
      ]
    },
    {
      "cell_type": "code",
      "metadata": {
        "id": "_bsq93HCwaTd",
        "outputId": "4b6705d3-67c3-4f2f-97ea-03d6e70942d7",
        "colab": {
          "base_uri": "https://localhost:8080/",
          "height": 1000
        }
      },
      "source": [
        "\n",
        "vgg_layer = tf.keras.applications.VGG16(include_top=False, weights='imagenet',\n",
        "                                        )\n",
        "avg_pool_layer = tfk.layers.GlobalAveragePooling2D()(vgg_layer.output)\n",
        "first_dense_layer = tfk.layers.Dense(256,activation='relu')(avg_pool_layer)\n",
        "second_dense_layer = tfk.layers.Dense(128,activation='relu')(first_dense_layer)\n",
        "third_dense_layer = tfk.layers.Dense(64,activation='relu')(second_dense_layer)\n",
        "final_dense_layer = tfk.layers.Dense(6)(third_dense_layer)\n",
        "\n",
        "model = tfk.models.Model(inputs=[vgg_layer.input],outputs=[final_dense_layer])\n",
        "for layers in vgg_layer.layers:\n",
        "  layers.trainable=False\n",
        "model.summary()\n"
      ],
      "execution_count": 9,
      "outputs": [
        {
          "output_type": "stream",
          "text": [
            "Model: \"functional_1\"\n",
            "_________________________________________________________________\n",
            "Layer (type)                 Output Shape              Param #   \n",
            "=================================================================\n",
            "input_1 (InputLayer)         [(None, None, None, 3)]   0         \n",
            "_________________________________________________________________\n",
            "block1_conv1 (Conv2D)        (None, None, None, 64)    1792      \n",
            "_________________________________________________________________\n",
            "block1_conv2 (Conv2D)        (None, None, None, 64)    36928     \n",
            "_________________________________________________________________\n",
            "block1_pool (MaxPooling2D)   (None, None, None, 64)    0         \n",
            "_________________________________________________________________\n",
            "block2_conv1 (Conv2D)        (None, None, None, 128)   73856     \n",
            "_________________________________________________________________\n",
            "block2_conv2 (Conv2D)        (None, None, None, 128)   147584    \n",
            "_________________________________________________________________\n",
            "block2_pool (MaxPooling2D)   (None, None, None, 128)   0         \n",
            "_________________________________________________________________\n",
            "block3_conv1 (Conv2D)        (None, None, None, 256)   295168    \n",
            "_________________________________________________________________\n",
            "block3_conv2 (Conv2D)        (None, None, None, 256)   590080    \n",
            "_________________________________________________________________\n",
            "block3_conv3 (Conv2D)        (None, None, None, 256)   590080    \n",
            "_________________________________________________________________\n",
            "block3_pool (MaxPooling2D)   (None, None, None, 256)   0         \n",
            "_________________________________________________________________\n",
            "block4_conv1 (Conv2D)        (None, None, None, 512)   1180160   \n",
            "_________________________________________________________________\n",
            "block4_conv2 (Conv2D)        (None, None, None, 512)   2359808   \n",
            "_________________________________________________________________\n",
            "block4_conv3 (Conv2D)        (None, None, None, 512)   2359808   \n",
            "_________________________________________________________________\n",
            "block4_pool (MaxPooling2D)   (None, None, None, 512)   0         \n",
            "_________________________________________________________________\n",
            "block5_conv1 (Conv2D)        (None, None, None, 512)   2359808   \n",
            "_________________________________________________________________\n",
            "block5_conv2 (Conv2D)        (None, None, None, 512)   2359808   \n",
            "_________________________________________________________________\n",
            "block5_conv3 (Conv2D)        (None, None, None, 512)   2359808   \n",
            "_________________________________________________________________\n",
            "block5_pool (MaxPooling2D)   (None, None, None, 512)   0         \n",
            "_________________________________________________________________\n",
            "global_average_pooling2d (Gl (None, 512)               0         \n",
            "_________________________________________________________________\n",
            "dense (Dense)                (None, 256)               131328    \n",
            "_________________________________________________________________\n",
            "dense_1 (Dense)              (None, 128)               32896     \n",
            "_________________________________________________________________\n",
            "dense_2 (Dense)              (None, 64)                8256      \n",
            "_________________________________________________________________\n",
            "dense_3 (Dense)              (None, 6)                 390       \n",
            "=================================================================\n",
            "Total params: 14,887,558\n",
            "Trainable params: 172,870\n",
            "Non-trainable params: 14,714,688\n",
            "_________________________________________________________________\n"
          ],
          "name": "stdout"
        }
      ]
    },
    {
      "cell_type": "code",
      "metadata": {
        "id": "gOafQn-XLf4v"
      },
      "source": [
        "checkpoint_filepath = r'/content/drive/My Drive/SavedWeights/ImageClassification/IntelImageClassification/model_checkpoint/'\n",
        "model_checkpoint_callback = tf.keras.callbacks.ModelCheckpoint(\n",
        "    filepath=checkpoint_filepath,\n",
        "    save_weights_only=True,\n",
        "    monitor='acc',\n",
        "    mode='max',\n",
        "    save_best_only=True)"
      ],
      "execution_count": 10,
      "outputs": []
    },
    {
      "cell_type": "code",
      "metadata": {
        "id": "GEwy2bqA6k79"
      },
      "source": [
        "model.compile(loss=tfk.losses.SparseCategoricalCrossentropy(from_logits=True),\n",
        "              optimizer=tfk.optimizers.Adam(0.01),metrics=['acc'])"
      ],
      "execution_count": 11,
      "outputs": []
    },
    {
      "cell_type": "code",
      "metadata": {
        "id": "omxCpv157ckb",
        "outputId": "10d6806d-b478-4f88-cd06-e7f5f5f450c7",
        "colab": {
          "base_uri": "https://localhost:8080/",
          "height": 405
        }
      },
      "source": [
        "model.fit(image_fimage_flow_genlow_gen,epochs=10,steps_per_epoch=437,\n",
        "          callbacks=[model_checkpoint_callback])"
      ],
      "execution_count": 12,
      "outputs": [
        {
          "output_type": "stream",
          "text": [
            "Epoch 1/10\n",
            "437/437 [==============================] - 91s 207ms/step - loss: 0.7048 - acc: 0.7282\n",
            "Epoch 2/10\n",
            "437/437 [==============================] - 91s 208ms/step - loss: 0.5629 - acc: 0.7925\n",
            "Epoch 3/10\n",
            "437/437 [==============================] - 89s 204ms/step - loss: 0.5400 - acc: 0.8039\n",
            "Epoch 4/10\n",
            "437/437 [==============================] - 88s 202ms/step - loss: 0.5205 - acc: 0.8128\n",
            "Epoch 5/10\n",
            "437/437 [==============================] - 88s 202ms/step - loss: 0.5055 - acc: 0.8146\n",
            "Epoch 6/10\n",
            "437/437 [==============================] - 89s 204ms/step - loss: 0.4936 - acc: 0.8240\n",
            "Epoch 7/10\n",
            "437/437 [==============================] - 87s 200ms/step - loss: 0.4836 - acc: 0.8234\n",
            "Epoch 8/10\n",
            "437/437 [==============================] - 87s 199ms/step - loss: 0.4745 - acc: 0.8243\n",
            "Epoch 9/10\n",
            "437/437 [==============================] - 88s 201ms/step - loss: 0.4706 - acc: 0.8285\n",
            "Epoch 10/10\n",
            "437/437 [==============================] - 87s 200ms/step - loss: 0.4671 - acc: 0.8303\n"
          ],
          "name": "stdout"
        },
        {
          "output_type": "execute_result",
          "data": {
            "text/plain": [
              "<tensorflow.python.keras.callbacks.History at 0x7f6d8cee5400>"
            ]
          },
          "metadata": {
            "tags": []
          },
          "execution_count": 12
        }
      ]
    },
    {
      "cell_type": "code",
      "metadata": {
        "id": "3n71Sse9EHLH",
        "outputId": "90f2dddf-ca44-4e57-ffd0-0902fceeb712",
        "colab": {
          "base_uri": "https://localhost:8080/",
          "height": 405
        }
      },
      "source": [
        "model.fit(image_fimage_flow_genlow_gen,epochs=10,steps_per_epoch=437,\n",
        "          callbacks=[model_checkpoint_callback])"
      ],
      "execution_count": 13,
      "outputs": [
        {
          "output_type": "stream",
          "text": [
            "Epoch 1/10\n",
            "437/437 [==============================] - 91s 208ms/step - loss: 0.4560 - acc: 0.8341\n",
            "Epoch 2/10\n",
            "437/437 [==============================] - 91s 208ms/step - loss: 0.4529 - acc: 0.8352\n",
            "Epoch 3/10\n",
            "437/437 [==============================] - 90s 207ms/step - loss: 0.4574 - acc: 0.8341\n",
            "Epoch 4/10\n",
            "437/437 [==============================] - 91s 207ms/step - loss: 0.4453 - acc: 0.8408\n",
            "Epoch 5/10\n",
            "437/437 [==============================] - 91s 207ms/step - loss: 0.4428 - acc: 0.8390\n",
            "Epoch 6/10\n",
            "437/437 [==============================] - 90s 205ms/step - loss: 0.4339 - acc: 0.8405\n",
            "Epoch 7/10\n",
            "437/437 [==============================] - 90s 206ms/step - loss: 0.4427 - acc: 0.8391\n",
            "Epoch 8/10\n",
            "437/437 [==============================] - 89s 204ms/step - loss: 0.4456 - acc: 0.8351\n",
            "Epoch 9/10\n",
            "437/437 [==============================] - 89s 203ms/step - loss: 0.4406 - acc: 0.8393\n",
            "Epoch 10/10\n",
            "437/437 [==============================] - 87s 199ms/step - loss: 0.4224 - acc: 0.8448\n"
          ],
          "name": "stdout"
        },
        {
          "output_type": "execute_result",
          "data": {
            "text/plain": [
              "<tensorflow.python.keras.callbacks.History at 0x7f6d2bfd76a0>"
            ]
          },
          "metadata": {
            "tags": []
          },
          "execution_count": 13
        }
      ]
    },
    {
      "cell_type": "code",
      "metadata": {
        "id": "GaYG6ToSIBm-"
      },
      "source": [
        "model.save_weights(r'/content/drive/My Drive/SavedWeights/ImageClassification/IntelImageClassification/model_weights/')"
      ],
      "execution_count": 14,
      "outputs": []
    },
    {
      "cell_type": "markdown",
      "metadata": {
        "id": "e9YJjt1SyXNq"
      },
      "source": [
        "**Tetst the model on test data to see the accuracy**\n",
        "1.   Generate another imageDataGenerator for Image Data\n",
        "2.   Predict the output and evaluate the results\n",
        "\n"
      ]
    },
    {
      "cell_type": "code",
      "metadata": {
        "id": "3dw3S8-6y9AZ",
        "outputId": "694603b4-2bf8-4dcc-d99a-bfe479cd4713",
        "colab": {
          "base_uri": "https://localhost:8080/",
          "height": 35
        }
      },
      "source": [
        "test_Data_Generator = ImageDataGenerator(rescale=1./255)\n",
        "test_data_flow = test_Data_Generator.flow_from_directory(r'/content/intelImages/seg_test/seg_test',\n",
        "                                                         target_size=(150,150),\n",
        "                                                         class_mode='sparse',\n",
        "                                                         batch_size=32,\n",
        "                                                         )"
      ],
      "execution_count": 15,
      "outputs": [
        {
          "output_type": "stream",
          "text": [
            "Found 3000 images belonging to 6 classes.\n"
          ],
          "name": "stdout"
        }
      ]
    },
    {
      "cell_type": "code",
      "metadata": {
        "id": "92XCcluM057X",
        "outputId": "e5489abf-1725-42c1-c0a7-42a1a808d4a6",
        "colab": {
          "base_uri": "https://localhost:8080/",
          "height": 35
        }
      },
      "source": [
        "print(test_data_flow.class_indices)"
      ],
      "execution_count": 16,
      "outputs": [
        {
          "output_type": "stream",
          "text": [
            "{'buildings': 0, 'forest': 1, 'glacier': 2, 'mountain': 3, 'sea': 4, 'street': 5}\n"
          ],
          "name": "stdout"
        }
      ]
    },
    {
      "cell_type": "code",
      "metadata": {
        "id": "6mcXyX9-1O5Y",
        "outputId": "0ac42087-4d32-42b5-e9fe-ab65a2326a8d",
        "colab": {
          "base_uri": "https://localhost:8080/",
          "height": 54
        }
      },
      "source": [
        "model.evaluate(test_data_flow,batch_size=32,return_dict=True)"
      ],
      "execution_count": 17,
      "outputs": [
        {
          "output_type": "stream",
          "text": [
            "94/94 [==============================] - 7s 79ms/step - loss: 0.4260 - acc: 0.8363\n"
          ],
          "name": "stdout"
        },
        {
          "output_type": "execute_result",
          "data": {
            "text/plain": [
              "{'acc': 0.8363333344459534, 'loss': 0.4259970784187317}"
            ]
          },
          "metadata": {
            "tags": []
          },
          "execution_count": 17
        }
      ]
    },
    {
      "cell_type": "code",
      "metadata": {
        "id": "Vb3_sWKXJEpa",
        "outputId": "e8bc6671-6807-4d32-e3b8-d6840a1573ec",
        "colab": {
          "base_uri": "https://localhost:8080/",
          "height": 1000
        }
      },
      "source": [
        "vgg_layer_two = tf.keras.applications.VGG16(include_top=False, weights='imagenet',\n",
        "                                        )\n",
        "avg_pool_layer_two = tfk.layers.GlobalAveragePooling2D()(vgg_layer_two.output)\n",
        "first_dense_layer_two = tfk.layers.Dense(256,activation='relu')(avg_pool_layer_two)\n",
        "second_dense_layer_two = tfk.layers.Dense(128,activation='relu')(first_dense_layer_two)\n",
        "third_dense_layer_two = tfk.layers.Dense(64,activation='relu')(second_dense_layer_two)\n",
        "final_dense_layer_two = tfk.layers.Dense(6)(third_dense_layer_two)\n",
        "\n",
        "new_model = tfk.models.Model(inputs=[vgg_layer_two.input],outputs=[final_dense_layer_two])\n",
        "for layers in vgg_layer_two.layers:\n",
        "  layers.trainable=False\n",
        "new_model.summary()"
      ],
      "execution_count": 19,
      "outputs": [
        {
          "output_type": "stream",
          "text": [
            "Model: \"functional_3\"\n",
            "_________________________________________________________________\n",
            "Layer (type)                 Output Shape              Param #   \n",
            "=================================================================\n",
            "input_2 (InputLayer)         [(None, None, None, 3)]   0         \n",
            "_________________________________________________________________\n",
            "block1_conv1 (Conv2D)        (None, None, None, 64)    1792      \n",
            "_________________________________________________________________\n",
            "block1_conv2 (Conv2D)        (None, None, None, 64)    36928     \n",
            "_________________________________________________________________\n",
            "block1_pool (MaxPooling2D)   (None, None, None, 64)    0         \n",
            "_________________________________________________________________\n",
            "block2_conv1 (Conv2D)        (None, None, None, 128)   73856     \n",
            "_________________________________________________________________\n",
            "block2_conv2 (Conv2D)        (None, None, None, 128)   147584    \n",
            "_________________________________________________________________\n",
            "block2_pool (MaxPooling2D)   (None, None, None, 128)   0         \n",
            "_________________________________________________________________\n",
            "block3_conv1 (Conv2D)        (None, None, None, 256)   295168    \n",
            "_________________________________________________________________\n",
            "block3_conv2 (Conv2D)        (None, None, None, 256)   590080    \n",
            "_________________________________________________________________\n",
            "block3_conv3 (Conv2D)        (None, None, None, 256)   590080    \n",
            "_________________________________________________________________\n",
            "block3_pool (MaxPooling2D)   (None, None, None, 256)   0         \n",
            "_________________________________________________________________\n",
            "block4_conv1 (Conv2D)        (None, None, None, 512)   1180160   \n",
            "_________________________________________________________________\n",
            "block4_conv2 (Conv2D)        (None, None, None, 512)   2359808   \n",
            "_________________________________________________________________\n",
            "block4_conv3 (Conv2D)        (None, None, None, 512)   2359808   \n",
            "_________________________________________________________________\n",
            "block4_pool (MaxPooling2D)   (None, None, None, 512)   0         \n",
            "_________________________________________________________________\n",
            "block5_conv1 (Conv2D)        (None, None, None, 512)   2359808   \n",
            "_________________________________________________________________\n",
            "block5_conv2 (Conv2D)        (None, None, None, 512)   2359808   \n",
            "_________________________________________________________________\n",
            "block5_conv3 (Conv2D)        (None, None, None, 512)   2359808   \n",
            "_________________________________________________________________\n",
            "block5_pool (MaxPooling2D)   (None, None, None, 512)   0         \n",
            "_________________________________________________________________\n",
            "global_average_pooling2d_1 ( (None, 512)               0         \n",
            "_________________________________________________________________\n",
            "dense_4 (Dense)              (None, 256)               131328    \n",
            "_________________________________________________________________\n",
            "dense_5 (Dense)              (None, 128)               32896     \n",
            "_________________________________________________________________\n",
            "dense_6 (Dense)              (None, 64)                8256      \n",
            "_________________________________________________________________\n",
            "dense_7 (Dense)              (None, 6)                 390       \n",
            "=================================================================\n",
            "Total params: 14,887,558\n",
            "Trainable params: 172,870\n",
            "Non-trainable params: 14,714,688\n",
            "_________________________________________________________________\n"
          ],
          "name": "stdout"
        }
      ]
    },
    {
      "cell_type": "code",
      "metadata": {
        "id": "wDbJlvAsJzIF",
        "outputId": "f084c166-cb08-4fd8-a129-ff015b483778",
        "colab": {
          "base_uri": "https://localhost:8080/",
          "height": 35
        }
      },
      "source": [
        "new_model.load_weights(r'/content/drive/My Drive/SavedWeights/ImageClassification/IntelImageClassification/model_weights/')"
      ],
      "execution_count": 20,
      "outputs": [
        {
          "output_type": "execute_result",
          "data": {
            "text/plain": [
              "<tensorflow.python.training.tracking.util.CheckpointLoadStatus at 0x7f6d2bffdfd0>"
            ]
          },
          "metadata": {
            "tags": []
          },
          "execution_count": 20
        }
      ]
    },
    {
      "cell_type": "code",
      "metadata": {
        "id": "WhiGMsLOKDOu",
        "outputId": "1e009f81-868a-490a-c07a-6e9489bca9a6",
        "colab": {
          "base_uri": "https://localhost:8080/",
          "height": 54
        }
      },
      "source": [
        "new_model.compile(loss=tfk.losses.SparseCategoricalCrossentropy(from_logits=True),\n",
        "              optimizer=tfk.optimizers.Adam(0.01),metrics=['acc'])\n",
        "new_model.evaluate(test_data_flow,batch_size=32,return_dict=True)"
      ],
      "execution_count": 21,
      "outputs": [
        {
          "output_type": "stream",
          "text": [
            "94/94 [==============================] - 6s 69ms/step - loss: 0.4260 - acc: 0.8363\n"
          ],
          "name": "stdout"
        },
        {
          "output_type": "execute_result",
          "data": {
            "text/plain": [
              "{'acc': 0.8363333344459534, 'loss': 0.4259969890117645}"
            ]
          },
          "metadata": {
            "tags": []
          },
          "execution_count": 21
        }
      ]
    },
    {
      "cell_type": "code",
      "metadata": {
        "id": "91SN1UBuVkS-",
        "outputId": "45d37d0c-d5a0-482f-d4fb-3254c7446653",
        "colab": {
          "base_uri": "https://localhost:8080/",
          "height": 1000
        }
      },
      "source": [
        "vgg_layer_three = tf.keras.applications.VGG16(include_top=False, weights='imagenet',\n",
        "                                        )\n",
        "avg_pool_layer_three = tfk.layers.GlobalAveragePooling2D()(vgg_layer_three.output)\n",
        "first_dense_layer_three = tfk.layers.Dense(256,activation='relu')(avg_pool_layer_three)\n",
        "second_dense_layer_three = tfk.layers.Dense(128,activation='relu')(first_dense_layer_three)\n",
        "third_dense_layer_three = tfk.layers.Dense(64,activation='relu')(second_dense_layer_three)\n",
        "final_dense_layer_three = tfk.layers.Dense(6)(third_dense_layer_three)\n",
        "\n",
        "new_model_three = tfk.models.Model(inputs=[vgg_layer_three.input],outputs=[final_dense_layer_three])\n",
        "for layers in vgg_layer_three.layers:\n",
        "  layers.trainable=False\n",
        "new_model_three.summary()"
      ],
      "execution_count": 22,
      "outputs": [
        {
          "output_type": "stream",
          "text": [
            "Model: \"functional_5\"\n",
            "_________________________________________________________________\n",
            "Layer (type)                 Output Shape              Param #   \n",
            "=================================================================\n",
            "input_3 (InputLayer)         [(None, None, None, 3)]   0         \n",
            "_________________________________________________________________\n",
            "block1_conv1 (Conv2D)        (None, None, None, 64)    1792      \n",
            "_________________________________________________________________\n",
            "block1_conv2 (Conv2D)        (None, None, None, 64)    36928     \n",
            "_________________________________________________________________\n",
            "block1_pool (MaxPooling2D)   (None, None, None, 64)    0         \n",
            "_________________________________________________________________\n",
            "block2_conv1 (Conv2D)        (None, None, None, 128)   73856     \n",
            "_________________________________________________________________\n",
            "block2_conv2 (Conv2D)        (None, None, None, 128)   147584    \n",
            "_________________________________________________________________\n",
            "block2_pool (MaxPooling2D)   (None, None, None, 128)   0         \n",
            "_________________________________________________________________\n",
            "block3_conv1 (Conv2D)        (None, None, None, 256)   295168    \n",
            "_________________________________________________________________\n",
            "block3_conv2 (Conv2D)        (None, None, None, 256)   590080    \n",
            "_________________________________________________________________\n",
            "block3_conv3 (Conv2D)        (None, None, None, 256)   590080    \n",
            "_________________________________________________________________\n",
            "block3_pool (MaxPooling2D)   (None, None, None, 256)   0         \n",
            "_________________________________________________________________\n",
            "block4_conv1 (Conv2D)        (None, None, None, 512)   1180160   \n",
            "_________________________________________________________________\n",
            "block4_conv2 (Conv2D)        (None, None, None, 512)   2359808   \n",
            "_________________________________________________________________\n",
            "block4_conv3 (Conv2D)        (None, None, None, 512)   2359808   \n",
            "_________________________________________________________________\n",
            "block4_pool (MaxPooling2D)   (None, None, None, 512)   0         \n",
            "_________________________________________________________________\n",
            "block5_conv1 (Conv2D)        (None, None, None, 512)   2359808   \n",
            "_________________________________________________________________\n",
            "block5_conv2 (Conv2D)        (None, None, None, 512)   2359808   \n",
            "_________________________________________________________________\n",
            "block5_conv3 (Conv2D)        (None, None, None, 512)   2359808   \n",
            "_________________________________________________________________\n",
            "block5_pool (MaxPooling2D)   (None, None, None, 512)   0         \n",
            "_________________________________________________________________\n",
            "global_average_pooling2d_2 ( (None, 512)               0         \n",
            "_________________________________________________________________\n",
            "dense_8 (Dense)              (None, 256)               131328    \n",
            "_________________________________________________________________\n",
            "dense_9 (Dense)              (None, 128)               32896     \n",
            "_________________________________________________________________\n",
            "dense_10 (Dense)             (None, 64)                8256      \n",
            "_________________________________________________________________\n",
            "dense_11 (Dense)             (None, 6)                 390       \n",
            "=================================================================\n",
            "Total params: 14,887,558\n",
            "Trainable params: 172,870\n",
            "Non-trainable params: 14,714,688\n",
            "_________________________________________________________________\n"
          ],
          "name": "stdout"
        }
      ]
    },
    {
      "cell_type": "code",
      "metadata": {
        "id": "MQjfviNaW82b",
        "outputId": "74cb2ae4-af94-4d2d-f156-1f4c256103e9",
        "colab": {
          "base_uri": "https://localhost:8080/",
          "height": 54
        }
      },
      "source": [
        "new_model_three.load_weights(r'/content/drive/My Drive/SavedWeights/ImageClassification/IntelImageClassification/model_checkpoint/')\n",
        "new_model_three.compile(loss=tfk.losses.SparseCategoricalCrossentropy(from_logits=True),\n",
        "              optimizer=tfk.optimizers.Adam(0.01),metrics=['acc'])\n",
        "new_model_three.evaluate(test_data_flow,batch_size=32,return_dict=True)"
      ],
      "execution_count": 23,
      "outputs": [
        {
          "output_type": "stream",
          "text": [
            "94/94 [==============================] - 7s 71ms/step - loss: 0.4260 - acc: 0.8363\n"
          ],
          "name": "stdout"
        },
        {
          "output_type": "execute_result",
          "data": {
            "text/plain": [
              "{'acc': 0.8363333344459534, 'loss': 0.4259969890117645}"
            ]
          },
          "metadata": {
            "tags": []
          },
          "execution_count": 23
        }
      ]
    }
  ]
}