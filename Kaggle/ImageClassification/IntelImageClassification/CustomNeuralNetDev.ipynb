{
  "nbformat": 4,
  "nbformat_minor": 0,
  "metadata": {
    "colab": {
      "name": "Untitled0.ipynb",
      "provenance": [],
      "authorship_tag": "ABX9TyPYc3CpMdHk44allK6f61nw",
      "include_colab_link": true
    },
    "kernelspec": {
      "name": "python3",
      "display_name": "Python 3"
    }
  },
  "cells": [
    {
      "cell_type": "markdown",
      "metadata": {
        "id": "view-in-github",
        "colab_type": "text"
      },
      "source": [
        "<a href=\"https://colab.research.google.com/github/Siva7/GoogleColabProject/blob/main/Kaggle/ImageClassification/IntelImageClassification/CustomNeuralNetDev.ipynb\" target=\"_parent\"><img src=\"https://colab.research.google.com/assets/colab-badge.svg\" alt=\"Open In Colab\"/></a>"
      ]
    },
    {
      "cell_type": "code",
      "metadata": {
        "id": "-wa6GfWrMnlf"
      },
      "source": [
        "!pip install -q kaggle"
      ],
      "execution_count": 3,
      "outputs": []
    },
    {
      "cell_type": "code",
      "metadata": {
        "id": "eqeQ9wAzO617",
        "outputId": "b9e1d1b2-53a7-4121-9bfd-cb9c037addd6",
        "colab": {
          "base_uri": "https://localhost:8080/",
          "height": 35
        }
      },
      "source": [
        "from google.colab import drive\n",
        "drive.mount('/content/drive')"
      ],
      "execution_count": 6,
      "outputs": [
        {
          "output_type": "stream",
          "text": [
            "Mounted at /content/drive\n"
          ],
          "name": "stdout"
        }
      ]
    },
    {
      "cell_type": "code",
      "metadata": {
        "id": "jj5kkENEOxWe"
      },
      "source": [
        "!cp \"/content/drive/My Drive/Colab Notebooks/KaggleAPI/kaggle.json\" /root/.kaggle/kaggle.json"
      ],
      "execution_count": 11,
      "outputs": []
    },
    {
      "cell_type": "code",
      "metadata": {
        "id": "d4zCNiq6PxJK",
        "outputId": "d310a5ce-3ec6-4e8c-d533-486a70d5a053",
        "colab": {
          "base_uri": "https://localhost:8080/",
          "height": 72
        }
      },
      "source": [
        "!kaggle datasets download -d puneet6060/intel-image-classification"
      ],
      "execution_count": 12,
      "outputs": [
        {
          "output_type": "stream",
          "text": [
            "Downloading intel-image-classification.zip to /content\n",
            " 95% 329M/346M [00:03<00:00, 119MB/s]\n",
            "100% 346M/346M [00:03<00:00, 116MB/s]\n"
          ],
          "name": "stdout"
        }
      ]
    }
  ]
}